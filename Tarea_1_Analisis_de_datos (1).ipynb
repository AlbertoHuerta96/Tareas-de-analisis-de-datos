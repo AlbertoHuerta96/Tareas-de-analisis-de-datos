{
  "nbformat": 4,
  "nbformat_minor": 0,
  "metadata": {
    "colab": {
      "provenance": []
    },
    "kernelspec": {
      "name": "python3",
      "display_name": "Python 3"
    },
    "language_info": {
      "name": "python"
    }
  },
  "cells": [
    {
      "cell_type": "markdown",
      "source": [
        "Elaborado por Alberto Armando Huerta Ornelas"
      ],
      "metadata": {
        "id": "L_WqqkcFfggY"
      }
    },
    {
      "cell_type": "markdown",
      "source": [
        "Ejercicio 1. Crea un bucle para obtener el promedio de todos los elementos que se encuentran en las siguientes listas:\n",
        "L1=[7.2,7.8,6.8,8.0,None,'8.2',5.6,8.2,7.7,7.5,None,5.8]\n",
        "L2=['6.8',None,6.8,6.1,7.9,9.4,None]\n",
        "L3=[8.5,'9.0',None,7.7]"
      ],
      "metadata": {
        "id": "6yHMLAF4-gBk"
      }
    },
    {
      "cell_type": "markdown",
      "source": [
        "Solucion a ejercicio 1"
      ],
      "metadata": {
        "id": "F-NljKMx7Rd-"
      }
    },
    {
      "cell_type": "code",
      "source": [
        "# Listas originales\n",
        "L1 = [7.2, 7.8, 6.8, 8.0, None, '8.2', 5.6, 8.2, 7.7, 7.5, None, 5.8]\n",
        "L2 = ['6.8', None, 6.8, 6.1, 7.9, 9.4, None]\n",
        "L3 = [8.5, '9.0', None, 7.7]\n",
        "\n",
        "# Procesar cada lista\n",
        "for lista in [L1, L2, L3]:\n",
        "    suma = 0\n",
        "    contador = 0\n",
        "\n",
        "    for elemento in lista:\n",
        "        # Saltar si el elemento es None\n",
        "        if elemento is None:\n",
        "            continue\n",
        "        # Convertir a float si es string numérico\n",
        "        if isinstance(elemento, str):\n",
        "            try:\n",
        "                valor = float(elemento)\n",
        "            except ValueError:\n",
        "                pass  # Ignorar si no es un string numérico\n",
        "            else:\n",
        "                suma += valor\n",
        "                contador += 1\n",
        "        else:\n",
        "            suma += elemento\n",
        "            contador += 1\n",
        "\n",
        "    # Calcular y mostrar promedio\n",
        "    if contador > 0:\n",
        "        promedio = suma / contador\n",
        "        print(\"El promedio de la lista \" + str(lista) + \" es: \" + str(promedio))\n",
        "    else:\n",
        "        pass  # No hacer nada si no hay elementos válidos"
      ],
      "metadata": {
        "colab": {
          "base_uri": "https://localhost:8080/"
        },
        "id": "UCbK_yiJBaNk",
        "outputId": "af4dbb97-ea87-455b-89ac-761a419cf59b"
      },
      "execution_count": 6,
      "outputs": [
        {
          "output_type": "stream",
          "name": "stdout",
          "text": [
            "El promedio de la lista [7.2, 7.8, 6.8, 8.0, None, '8.2', 5.6, 8.2, 7.7, 7.5, None, 5.8] es: 7.279999999999999\n",
            "El promedio de la lista ['6.8', None, 6.8, 6.1, 7.9, 9.4, None] es: 7.4\n",
            "El promedio de la lista [8.5, '9.0', None, 7.7] es: 8.4\n"
          ]
        }
      ]
    },
    {
      "cell_type": "markdown",
      "source": [
        "Ejercicio 2. Crea un bucle que divida en 3 listas del mismo tamaño a los elementos de las listas anteriores ordenados de menor a mayor."
      ],
      "metadata": {
        "id": "gWeh4GaWUQs8"
      }
    },
    {
      "cell_type": "markdown",
      "source": [
        "Solucion a ejercicio 2"
      ],
      "metadata": {
        "id": "4NVdKl-zAW7z"
      }
    },
    {
      "cell_type": "code",
      "source": [
        "# Listas originales\n",
        "L1 = [7.2, 7.8, 6.8, 8.0, None, '8.2', 5.6, 8.2, 7.7, 7.5, None, 5.8]\n",
        "L2 = ['6.8', None, 6.8, 6.1, 7.9, 9.4, None]\n",
        "L3 = [8.5, '9.0', None, 7.7]\n",
        "\n",
        "# Crear una lista con todos los elementos válidos\n",
        "elementos_validos = []\n",
        "contador_total = 0\n",
        "\n",
        "for lista in [L1, L2, L3]:\n",
        "    for elemento in lista:\n",
        "        if elemento is None:\n",
        "            continue  # Saltar elementos None\n",
        "        if isinstance(elemento, str):\n",
        "            try:\n",
        "                valor = float(elemento)\n",
        "            except ValueError:\n",
        "                pass  # Ignorar si no es un string numérico\n",
        "            else:\n",
        "                elementos_validos.append(valor)\n",
        "                contador_total += 1\n",
        "        else:\n",
        "            elementos_validos.append(elemento)\n",
        "            contador_total += 1\n",
        "\n",
        "# Ordenar la lista de elementos válidos\n",
        "elementos_validos.sort()\n",
        "\n",
        "# Calcular el tamaño de cada sublista\n",
        "if contador_total < 3:\n",
        "    pass  # No hacer nada si no hay suficientes elementos\n",
        "else:\n",
        "    tamano_sublista = contador_total // 3\n",
        "    resto = contador_total % 3\n",
        "\n",
        "    # Ajustar tamaños para distribuir el resto\n",
        "    tamano_1 = tamano_sublista + (1 if resto > 0 else 0)\n",
        "    tamano_2 = tamano_sublista + (1 if resto > 1 else 0)\n",
        "    tamano_3 = tamano_sublista\n",
        "\n",
        "    # Dividir en tres listas\n",
        "    lista1 = []\n",
        "    lista2 = []\n",
        "    lista3 = []\n",
        "    contador = 0\n",
        "\n",
        "    for elemento in elementos_validos:\n",
        "        if contador < tamano_1:\n",
        "            lista1.append(elemento)\n",
        "        elif contador < tamano_1 + tamano_2:\n",
        "            lista2.append(elemento)\n",
        "        else:\n",
        "            lista3.append(elemento)\n",
        "        contador += 1\n",
        "\n",
        "    # Imprimir resultados sin usar f-strings\n",
        "    print(\"Lista 1: \" + str(lista1))\n",
        "    print(\"Lista 2: \" + str(lista2))\n",
        "    print(\"Lista 3: \" + str(lista3))"
      ],
      "metadata": {
        "colab": {
          "base_uri": "https://localhost:8080/"
        },
        "id": "S34hFuT-AM3Y",
        "outputId": "ce22b62a-ebce-4240-8355-9d842ec2c626"
      },
      "execution_count": 5,
      "outputs": [
        {
          "output_type": "stream",
          "name": "stdout",
          "text": [
            "Lista 1: [5.6, 5.8, 6.1, 6.8, 6.8, 6.8]\n",
            "Lista 2: [7.2, 7.5, 7.7, 7.7, 7.8, 7.9]\n",
            "Lista 3: [8.0, 8.2, 8.2, 8.5, 9.0, 9.4]\n"
          ]
        }
      ]
    },
    {
      "cell_type": "markdown",
      "source": [
        "Ejercicio 3. Crea una código que reciba del usuario nueve elementos de una matriz cuadrada de 3x3 y que retorne el determinante de la matriz."
      ],
      "metadata": {
        "id": "oHXl26yYVDwz"
      }
    },
    {
      "cell_type": "code",
      "source": [
        "# Inicializar lista para almacenar los 9 elementos\n",
        "matriz = []\n",
        "\n",
        "# Solicitar 9 elementos al usuario\n",
        "i = 0\n",
        "while i < 9:\n",
        "    try:\n",
        "        valor = float(input(\"Ingrese el elemento \" + str(i + 1) + \" de la matriz 3x3: \"))\n",
        "        matriz.append(valor)\n",
        "        i += 1\n",
        "    except ValueError:\n",
        "        print(\"Por favor, ingrese un número válido.\")\n",
        "\n",
        "# Organizar los elementos en una matriz 3x3\n",
        "a = matriz[0]\n",
        "b = matriz[1]\n",
        "c = matriz[2]\n",
        "d = matriz[3]\n",
        "e = matriz[4]\n",
        "f = matriz[5]\n",
        "g = matriz[6]\n",
        "h = matriz[7]\n",
        "i = matriz[8]\n",
        "\n",
        "# Calcular el determinante\n",
        "determinante = a * (e * i - f * h) - b * (d * i - f * g) + c * (d * h - e * g)\n",
        "determinante = round(determinante, 2)\n",
        "\n",
        "# Preparar la matriz con valores redondeados\n",
        "matriz_redondeada = []\n",
        "j = 0\n",
        "while j < 9:\n",
        "    matriz_redondeada.append(round(matriz[j], 2))\n",
        "    j += 1\n",
        "\n",
        "# Imprimir la matriz\n",
        "print(\"\")\n",
        "print(\"Matriz ingresada:\")\n",
        "j = 0\n",
        "while j < 3:\n",
        "    fila = \"[ \" + str(matriz_redondeada[j * 3]) + \"  \" + str(matriz_redondeada[j * 3 + 1]) + \"  \" + str(matriz_redondeada[j * 3 + 2]) + \" ]\"\n",
        "    print(fila)\n",
        "    j += 1\n",
        "\n",
        "# Imprimir el determinante\n",
        "print(\"\")\n",
        "print(\"El determinante de la matriz es: \" + str(determinante))"
      ],
      "metadata": {
        "colab": {
          "base_uri": "https://localhost:8080/"
        },
        "id": "349N43KjXtrC",
        "outputId": "61924cf1-5907-4bdb-ce9a-7d7843484545"
      },
      "execution_count": null,
      "outputs": [
        {
          "output_type": "stream",
          "name": "stdout",
          "text": [
            "Ingrese el elemento 1 de la matriz 3x3: -7\n",
            "Ingrese el elemento 2 de la matriz 3x3: 2\n",
            "Ingrese el elemento 3 de la matriz 3x3: 6.5\n",
            "Ingrese el elemento 4 de la matriz 3x3: -7\n",
            "Ingrese el elemento 5 de la matriz 3x3: -4\n",
            "Ingrese el elemento 6 de la matriz 3x3: 2.5\n",
            "Ingrese el elemento 7 de la matriz 3x3: 0\n",
            "Ingrese el elemento 8 de la matriz 3x3: 1\n",
            "Ingrese el elemento 9 de la matriz 3x3: -5\n",
            "\n",
            "Matriz ingresada:\n",
            "[ -7.0  2.0  6.5 ]\n",
            "[ -7.0  -4.0  2.5 ]\n",
            "[ 0.0  1.0  -5.0 ]\n",
            "\n",
            "El determinante de la matriz es: -238.0\n"
          ]
        }
      ]
    },
    {
      "cell_type": "markdown",
      "source": [
        "Ejercicio 4. Crea un código que reciba una cadena de caracteres y arroje la respuesta de si es un estado ó una capital del país.\n"
      ],
      "metadata": {
        "id": "sZ7F8WpXYp7Y"
      }
    },
    {
      "cell_type": "markdown",
      "source": [
        "Solucion al ejercicio 4\n"
      ],
      "metadata": {
        "id": "I8BTqLyvD10B"
      }
    },
    {
      "cell_type": "code",
      "source": [
        "# Listas de todos los estados y capitales de México con nombres genéricos\n",
        "estados = [\"Aguascalientes\", \"Baja California\", \"Baja California Sur\", \"Campeche\", \"Chiapas\", \"Chihuahua\", \"Ciudad de México\", \"Coahuila\", \"Colima\", \"Durango\", \"Guanajuato\", \"Guerrero\", \"Hidalgo\", \"Jalisco\", \"México\", \"Michoacán\", \"Morelos\", \"Nayarit\", \"Nuevo León\", \"Oaxaca\", \"Puebla\", \"Querétaro\", \"Quintana Roo\", \"San Luis Potosí\", \"Sinaloa\", \"Sonora\", \"Tabasco\", \"Tamaulipas\", \"Tlaxcala\", \"Veracruz\", \"Yucatán\", \"Zacatecas\"]\n",
        "capitales = [\"Aguascalientes\", \"Mexicali\", \"La Paz\", \"Campeche\", \"Tuxtla Gutiérrez\", \"Chihuahua\", \"Ciudad de México\", \"Saltillo\", \"Colima\", \"Durango\", \"Guanajuato\", \"Chilpancingo\", \"Pachuca\", \"Guadalajara\", \"Toluca\", \"Morelia\", \"Cuernavaca\", \"Tepic\", \"Monterrey\", \"Oaxaca\", \"Puebla\", \"Querétaro\", \"Chetumal\", \"San Luis Potosí\", \"Culiacán\", \"Hermosillo\", \"Villahermosa\", \"Ciudad Victoria\", \"Tlaxcala\", \"Xalapa\", \"Mérida\", \"Zacatecas\"]\n",
        "\n",
        "# Entrada del usuario\n",
        "entrada = input(\"Ingresa un nombre: \")\n",
        "\n",
        "# Variables para verificar si es estado o capital\n",
        "es_estado = False\n",
        "es_capital = False\n",
        "\n",
        "# Función elemental para comparar dos strings sin distinguir mayúsculas/minúsculas\n",
        "def comparar_insensible(cadena1, cadena2):\n",
        "    # Contar caracteres de ambas cadenas\n",
        "    contador1 = 0\n",
        "    contador2 = 0\n",
        "    for _ in cadena1:\n",
        "        contador1 += 1\n",
        "    for _ in cadena2:\n",
        "        contador2 += 1\n",
        "    if contador1 != contador2:\n",
        "        return False\n",
        "\n",
        "    # Comparar carácter por carácter\n",
        "    i = 0\n",
        "    for c1 in cadena1:\n",
        "        c2 = None\n",
        "        j = 0\n",
        "        for char in cadena2:\n",
        "            if j == i:\n",
        "                c2 = char\n",
        "                break\n",
        "            j += 1\n",
        "        # Comparar considerando mayúsculas y minúsculas\n",
        "        if c1 == c2:\n",
        "            pass  # Coinciden exactamente\n",
        "        elif (c1 >= 'A' and c1 <= 'Z') and (c2 >= 'a' and c2 <= 'z'):\n",
        "            if chr(ord(c1) + 32) == c2:\n",
        "                pass  # c1 mayúscula, c2 minúscula equivalente\n",
        "            else:\n",
        "                return False\n",
        "        elif (c1 >= 'a' and c1 <= 'z') and (c2 >= 'A' and c2 <= 'Z'):\n",
        "            if c1 == chr(ord(c2) + 32):\n",
        "                pass  # c1 minúscula, c2 mayúscula equivalente\n",
        "            else:\n",
        "                return False\n",
        "        else:\n",
        "            return False\n",
        "        i += 1\n",
        "    return True\n",
        "\n",
        "# Verificar si es un estado\n",
        "for estado in estados:\n",
        "    if comparar_insensible(entrada, estado):\n",
        "        es_estado = True\n",
        "        continue  # Continuar para evitar más comparaciones innecesarias\n",
        "    else:\n",
        "        pass  # No hacer nada si no coincide\n",
        "\n",
        "# Verificar si es una capital\n",
        "for capital in capitales:\n",
        "    if comparar_insensible(entrada, capital):\n",
        "        es_capital = True\n",
        "        continue  # Continuar para evitar más comparaciones innecesarias\n",
        "    else:\n",
        "        pass  # No hacer nada si no coincide\n",
        "\n",
        "# Determinar y mostrar el resultado\n",
        "if es_estado and es_capital:\n",
        "    print(\"El nombre \" + entrada + \" es un estado y una capital\")\n",
        "elif es_estado:\n",
        "    print(\"El nombre \" + entrada + \" es un estado\")\n",
        "elif es_capital:\n",
        "    print(\"El nombre \" + entrada + \" es una capital\")\n",
        "else:\n",
        "    print(\"El nombre \" + entrada + \" no es un estado ni una capital\")"
      ],
      "metadata": {
        "colab": {
          "base_uri": "https://localhost:8080/"
        },
        "id": "hh_pbzfaD46V",
        "outputId": "6aed5681-648c-4ab0-bfb0-1a9d898ef059"
      },
      "execution_count": 8,
      "outputs": [
        {
          "output_type": "stream",
          "name": "stdout",
          "text": [
            "Ingresa un nombre: nayarit\n",
            "El nombre nayarit es un estado\n"
          ]
        }
      ]
    },
    {
      "cell_type": "markdown",
      "source": [
        "Ejercicio 5.  Pide al usuario dos listas de números reales (misma longitud) y calcula su producto escalar usando un bucle for."
      ],
      "metadata": {
        "id": "3o_edHhXZVp1"
      }
    },
    {
      "cell_type": "markdown",
      "source": [
        "Solucion del ejercicio 5\n"
      ],
      "metadata": {
        "id": "3YULxahMDqMd"
      }
    },
    {
      "cell_type": "code",
      "source": [
        "# Inicializar listas vacías\n",
        "lista1 = []\n",
        "lista2 = []\n",
        "\n",
        "# Solicitar longitud de las listas\n",
        "while True:\n",
        "    try:\n",
        "        n = int(input(\"Ingrese la longitud de las listas: \"))\n",
        "        if n > 0:\n",
        "            break\n",
        "        print(\"La longitud debe ser un número positivo.\")\n",
        "    except ValueError:\n",
        "        print(\"Por favor, ingrese un número entero válido.\")\n",
        "\n",
        "# Solicitar elementos para la primera lista\n",
        "print(\"Ingrese los elementos de la primera lista:\")\n",
        "i = 0\n",
        "while i < n:\n",
        "    try:\n",
        "        valor = float(input(\"Elemento \" + str(i + 1) + \": \"))\n",
        "        lista1.append(valor)\n",
        "        i += 1\n",
        "    except ValueError:\n",
        "        print(\"Por favor, ingrese un número real válido.\")\n",
        "\n",
        "# Solicitar elementos para la segunda lista\n",
        "print(\"Ingrese los elementos de la segunda lista:\")\n",
        "i = 0\n",
        "while i < n:\n",
        "    try:\n",
        "        valor = float(input(\"Elemento \" + str(i + 1) + \": \"))\n",
        "        lista2.append(valor)\n",
        "        i += 1\n",
        "    except ValueError:\n",
        "        print(\"Por favor, ingrese un número real válido.\")\n",
        "\n",
        "# Calcular el producto escalar usando un bucle for\n",
        "producto_escalar = 0\n",
        "for i in range(n):\n",
        "    producto_escalar += lista1[i] * lista2[i]\n",
        "\n",
        "# Imprimir las listas y el resultado\n",
        "print(\"\")\n",
        "print(\"Lista 1: \" + str(lista1))\n",
        "print(\"Lista 2: \" + str(lista2))\n",
        "print(\"El producto escalar es: \" + str(producto_escalar))-"
      ],
      "metadata": {
        "colab": {
          "base_uri": "https://localhost:8080/"
        },
        "id": "Hxy16f54ZwMa",
        "outputId": "b89fdbe6-bf8c-489b-8cdf-6cfea883589d"
      },
      "execution_count": null,
      "outputs": [
        {
          "output_type": "stream",
          "name": "stdout",
          "text": [
            "Ingrese la longitud de las listas: 5\n",
            "Ingrese los elementos de la primera lista:\n",
            "Elemento 1: 8\n",
            "Elemento 2: 0\n",
            "Elemento 3: -9\n",
            "Elemento 4: 4\n",
            "Elemento 5: -6\n",
            "Ingrese los elementos de la segunda lista:\n",
            "Elemento 1: 0\n",
            "Elemento 2: 7}\n",
            "Por favor, ingrese un número real válido.\n",
            "Elemento 2: 5\n",
            "Elemento 3: 9\n",
            "Elemento 4: 1\n",
            "Elemento 5: -4\n",
            "\n",
            "Lista 1: [8.0, 0.0, -9.0, 4.0, -6.0]\n",
            "Lista 2: [0.0, 5.0, 9.0, 1.0, -4.0]\n",
            "El producto escalar es: -53.0\n"
          ]
        }
      ]
    },
    {
      "cell_type": "markdown",
      "source": [
        "Ejercicio 6. Utiliza un bucle while True para pedir números al usuario y agregarlos a una lista. Cuando la suma total de los elementos sea mayor a 100, el programa debe detenerse y mostrar la lista y la suma final."
      ],
      "metadata": {
        "id": "M1w0JDFAd3Gv"
      }
    },
    {
      "cell_type": "markdown",
      "source": [
        "Solucion a ejercicio 6"
      ],
      "metadata": {
        "id": "h6fHHhKWI2ay"
      }
    },
    {
      "cell_type": "code",
      "source": [
        "# Lista para almacenar los números\n",
        "numeros = []\n",
        "suma = 0\n",
        "\n",
        "# Bucle para pedir números\n",
        "while True:\n",
        "    entrada = input(\"Ingresa un número: \")\n",
        "\n",
        "    # Validar si la entrada es un número (solo dígitos o con un punto decimal)\n",
        "    es_numero = True\n",
        "    tiene_punto = False\n",
        "    contador_caracteres = 0\n",
        "\n",
        "    for char in entrada:\n",
        "        if char >= '0' and char <= '9':\n",
        "            pass  # Es un dígito, continuar\n",
        "        elif char == '.' and not tiene_punto:\n",
        "            tiene_punto = True\n",
        "            pass  # Es el primer punto decimal\n",
        "        else:\n",
        "            es_numero = False\n",
        "            break  # Salir si no es un carácter válido\n",
        "        contador_caracteres += 1\n",
        "\n",
        "    if not es_numero or contador_caracteres == 0:\n",
        "        print(\"Entrada inválida, ingresa un número\")\n",
        "        continue  # Volver a pedir entrada\n",
        "\n",
        "    # Convertir la entrada a número flotante manualmente\n",
        "    numero = 0\n",
        "    fraccion = 0\n",
        "    divisor = 1\n",
        "    leyendo_fraccion = False\n",
        "\n",
        "    for char in entrada:\n",
        "        if char == '.':\n",
        "            leyendo_fraccion = True\n",
        "            continue\n",
        "        digito = ord(char) - ord('0')\n",
        "        if leyendo_fraccion:\n",
        "            fraccion = fraccion * 10 + digito\n",
        "            divisor *= 10\n",
        "        else:\n",
        "            numero = numero * 10 + digito\n",
        "\n",
        "    if leyendo_fraccion:\n",
        "        numero = numero + fraccion / divisor\n",
        "\n",
        "    # Agregar número a la lista y actualizar suma\n",
        "    numeros.append(numero)\n",
        "    suma += numero\n",
        "\n",
        "    # Verificar si la suma supera 100\n",
        "    if suma > 100:\n",
        "        break\n",
        "    else:\n",
        "        pass  # Continuar si la suma no supera 100\n",
        "\n",
        "# Mostrar resultados\n",
        "print(\"Lista: \" + str(numeros))\n",
        "print(\"Suma final: \" + str(suma))"
      ],
      "metadata": {
        "colab": {
          "base_uri": "https://localhost:8080/"
        },
        "id": "7qXXUnkFd7LJ",
        "outputId": "dc6ace59-8a0c-4bf9-cd7d-d1f47784dcb5"
      },
      "execution_count": 9,
      "outputs": [
        {
          "output_type": "stream",
          "name": "stdout",
          "text": [
            "Ingresa un número: 5\n",
            "Ingresa un número: 89\n",
            "Ingresa un número: 5\n",
            "Ingresa un número: 0.5\n",
            "Ingresa un número: 0.15991\n",
            "Ingresa un número: .0911919\n",
            "Ingresa un número: .1919\n",
            "Ingresa un número: 0.19181\n",
            "Lista: [5, 89, 5, 0.5, 0.15991, 0.0911919, 0.1919, 0.19181]\n",
            "Suma final: 100.1348119\n"
          ]
        }
      ]
    },
    {
      "cell_type": "markdown",
      "source": [
        "Ejercicio 7. Crea una lista vacía y presenta al usuario un menú como este dentro de un while True:\n",
        "lista = []\n",
        "\n",
        "while True:\n",
        "    print(\"\\nMenú:\")\n",
        "    print(\"1. Agregar número\")\n",
        "    print(\"2. Mostrar lista\")\n",
        "    print(\"3. Salir\")\n",
        "    \n",
        "    opcion = input(\"Seleccione una opción: \")\n",
        "El usuario debe poder ejecutar varias opciones hasta que elija salir."
      ],
      "metadata": {
        "id": "2WBEReOBeqPa"
      }
    },
    {
      "cell_type": "code",
      "source": [
        "# Inicializar lista vacía\n",
        "lista = []\n",
        "\n",
        "# Menú interactivo\n",
        "while True:\n",
        "    print(\"\")\n",
        "    print(\"Menú:\")\n",
        "    print(\"1. Agregar número\")\n",
        "    print(\"2. Mostrar lista\")\n",
        "    print(\"3. Salir\")\n",
        "\n",
        "    opcion = input(\"Seleccione una opción: \")\n",
        "\n",
        "    if opcion == \"1\":\n",
        "        try:\n",
        "            valor = float(input(\"Ingrese un número real: \"))\n",
        "            lista.append(valor)\n",
        "            print(\"Número agregado: \" + str(valor))\n",
        "        except ValueError:\n",
        "            print(\"Por favor, ingrese un número real válido.\")\n",
        "\n",
        "    elif opcion == \"2\":\n",
        "        if lista:\n",
        "            print(\"Lista: \" + str(lista))\n",
        "        else:\n",
        "            print(\"La lista está vacía.\")\n",
        "\n",
        "    elif opcion == \"3\":\n",
        "        print(\"Saliendo del programa.\")\n",
        "        break\n",
        "\n",
        "    else:\n",
        "        print(\"Opción no válida, por favor seleccione 1, 2 o 3.\")"
      ],
      "metadata": {
        "colab": {
          "base_uri": "https://localhost:8080/"
        },
        "id": "uWzA_uhAe0dp",
        "outputId": "6366738d-88c4-40d1-c0cb-5968891829a5"
      },
      "execution_count": null,
      "outputs": [
        {
          "output_type": "stream",
          "name": "stdout",
          "text": [
            "\n",
            "Menú:\n",
            "1. Agregar número\n",
            "2. Mostrar lista\n",
            "3. Salir\n",
            "Seleccione una opción: 1\n",
            "Ingrese un número real: 6\n",
            "Número agregado: 6.0\n",
            "\n",
            "Menú:\n",
            "1. Agregar número\n",
            "2. Mostrar lista\n",
            "3. Salir\n",
            "Seleccione una opción: 1\n",
            "Ingrese un número real: 198\n",
            "Número agregado: 198.0\n",
            "\n",
            "Menú:\n",
            "1. Agregar número\n",
            "2. Mostrar lista\n",
            "3. Salir\n",
            "Seleccione una opción: 2\n",
            "Lista: [6.0, 198.0]\n",
            "\n",
            "Menú:\n",
            "1. Agregar número\n",
            "2. Mostrar lista\n",
            "3. Salir\n",
            "Seleccione una opción: 5179\n",
            "Opción no válida, por favor seleccione 1, 2 o 3.\n",
            "\n",
            "Menú:\n",
            "1. Agregar número\n",
            "2. Mostrar lista\n",
            "3. Salir\n",
            "Seleccione una opción: 1\n",
            "Ingrese un número real: 58489\n",
            "Número agregado: 58489.0\n",
            "\n",
            "Menú:\n",
            "1. Agregar número\n",
            "2. Mostrar lista\n",
            "3. Salir\n",
            "Seleccione una opción: 1\n",
            "Ingrese un número real: 1994\n",
            "Número agregado: 1994.0\n",
            "\n",
            "Menú:\n",
            "1. Agregar número\n",
            "2. Mostrar lista\n",
            "3. Salir\n",
            "Seleccione una opción: 2\n",
            "Lista: [6.0, 198.0, 58489.0, 1994.0]\n",
            "\n",
            "Menú:\n",
            "1. Agregar número\n",
            "2. Mostrar lista\n",
            "3. Salir\n",
            "Seleccione una opción: 3\n",
            "Saliendo del programa.\n"
          ]
        }
      ]
    }
  ]
}